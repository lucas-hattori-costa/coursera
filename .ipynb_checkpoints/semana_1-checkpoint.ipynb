{
 "cells": [
  {
   "cell_type": "markdown",
   "metadata": {},
   "source": [
    "# Semana 1 - Classification using Decision Trees and kNN"
   ]
  },
  {
   "cell_type": "markdown",
   "metadata": {},
   "source": [
    "### Decision Trees\n",
    "\n",
    "    Decision trees é um modelo linear que vai splitando o espaço das features em pequenos espaços limitados por planos, ou seja, escolhas binárias\n",
    "    Ponto negativo -> tende a ser muito instável (porque?) então usa-ser random forests\n",
    "\n",
    "> Random Forest\n",
    "    \n",
    "    Conjunto de decision trees que são treinadas com subsets do train_data. Assim, são geradas várias arvóres e, para cada predição da floresta, temos várias predições, uma de cada árvore; a predição da floresta é a predição mais recorrente das árvores\n",
    "    \n",
    "> Overfitting\n",
    "\n",
    "    Para evitar overfitting em decisions trees, podemos olhar 3 parâmetros: max_leaf_nodes (número máximo de pontos finais da árvore), min_samples_leaf (número mínimo de exemplos em cada leaf), max_depht (máxima distancia entre o input e a leaf). No geral, esses parâmetros tendem a reduzir o tamanho das árvores e reduzir overfitting."
   ]
  },
  {
   "cell_type": "code",
   "execution_count": null,
   "metadata": {},
   "outputs": [],
   "source": []
  }
 ],
 "metadata": {
  "kernelspec": {
   "display_name": "Python 3",
   "language": "python",
   "name": "python3"
  },
  "language_info": {
   "codemirror_mode": {
    "name": "ipython",
    "version": 3
   },
   "file_extension": ".py",
   "mimetype": "text/x-python",
   "name": "python",
   "nbconvert_exporter": "python",
   "pygments_lexer": "ipython3",
   "version": "3.7.4"
  }
 },
 "nbformat": 4,
 "nbformat_minor": 4
}
